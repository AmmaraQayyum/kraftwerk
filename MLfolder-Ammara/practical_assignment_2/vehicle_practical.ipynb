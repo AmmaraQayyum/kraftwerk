{
 "cells": [
  {
   "cell_type": "code",
   "execution_count": 44,
   "id": "80d133e6",
   "metadata": {},
   "outputs": [],
   "source": [
    "import pandas as pd\n",
    "import numpy as np\n",
    "import matplotlib.pyplot as plt\n",
    "import seaborn as sns\n",
    "import plotly.express as px"
   ]
  },
  {
   "cell_type": "code",
   "execution_count": 45,
   "id": "67f12446",
   "metadata": {},
   "outputs": [],
   "source": [
    "df = pd.read_csv('data/vehicles.csv')"
   ]
  },
  {
   "cell_type": "code",
   "execution_count": 46,
   "id": "0acb960a",
   "metadata": {},
   "outputs": [
    {
     "name": "stdout",
     "output_type": "stream",
     "text": [
      "<class 'pandas.core.frame.DataFrame'>\n",
      "RangeIndex: 426880 entries, 0 to 426879\n",
      "Data columns (total 18 columns):\n",
      " #   Column        Non-Null Count   Dtype  \n",
      "---  ------        --------------   -----  \n",
      " 0   id            426880 non-null  int64  \n",
      " 1   region        426880 non-null  object \n",
      " 2   price         426880 non-null  int64  \n",
      " 3   year          425675 non-null  float64\n",
      " 4   manufacturer  409234 non-null  object \n",
      " 5   model         421603 non-null  object \n",
      " 6   condition     252776 non-null  object \n",
      " 7   cylinders     249202 non-null  object \n",
      " 8   fuel          423867 non-null  object \n",
      " 9   odometer      422480 non-null  float64\n",
      " 10  title_status  418638 non-null  object \n",
      " 11  transmission  424324 non-null  object \n",
      " 12  VIN           265838 non-null  object \n",
      " 13  drive         296313 non-null  object \n",
      " 14  size          120519 non-null  object \n",
      " 15  type          334022 non-null  object \n",
      " 16  paint_color   296677 non-null  object \n",
      " 17  state         426880 non-null  object \n",
      "dtypes: float64(2), int64(2), object(14)\n",
      "memory usage: 58.6+ MB\n"
     ]
    }
   ],
   "source": [
    "df.info()"
   ]
  },
  {
   "cell_type": "code",
   "execution_count": 47,
   "id": "995cacaf",
   "metadata": {},
   "outputs": [
    {
     "data": {
      "text/plain": [
       "id                   0\n",
       "region               0\n",
       "price                0\n",
       "year              1205\n",
       "manufacturer     17646\n",
       "model             5277\n",
       "condition       174104\n",
       "cylinders       177678\n",
       "fuel              3013\n",
       "odometer          4400\n",
       "title_status      8242\n",
       "transmission      2556\n",
       "VIN             161042\n",
       "drive           130567\n",
       "size            306361\n",
       "type             92858\n",
       "paint_color     130203\n",
       "state                0\n",
       "dtype: int64"
      ]
     },
     "execution_count": 47,
     "metadata": {},
     "output_type": "execute_result"
    }
   ],
   "source": [
    "df.isnull().sum()"
   ]
  },
  {
   "cell_type": "code",
   "execution_count": 48,
   "id": "6da4a9bb",
   "metadata": {},
   "outputs": [],
   "source": [
    "df.drop(index = df.loc[df['price'] <= 500].index, inplace=True)"
   ]
  },
  {
   "cell_type": "code",
   "execution_count": 49,
   "id": "8d0d556e",
   "metadata": {},
   "outputs": [
    {
     "name": "stdout",
     "output_type": "stream",
     "text": [
      "<class 'pandas.core.frame.DataFrame'>\n",
      "Index: 383765 entries, 0 to 426879\n",
      "Data columns (total 18 columns):\n",
      " #   Column        Non-Null Count   Dtype  \n",
      "---  ------        --------------   -----  \n",
      " 0   id            383765 non-null  int64  \n",
      " 1   region        383765 non-null  object \n",
      " 2   price         383765 non-null  int64  \n",
      " 3   year          382593 non-null  float64\n",
      " 4   manufacturer  368371 non-null  object \n",
      " 5   model         379230 non-null  object \n",
      " 6   condition     238716 non-null  object \n",
      " 7   cylinders     227334 non-null  object \n",
      " 8   fuel          381172 non-null  object \n",
      " 9   odometer      381644 non-null  float64\n",
      " 10  title_status  376779 non-null  object \n",
      " 11  transmission  381947 non-null  object \n",
      " 12  VIN           235700 non-null  object \n",
      " 13  drive         267229 non-null  object \n",
      " 14  size          108063 non-null  object \n",
      " 15  type          301288 non-null  object \n",
      " 16  paint_color   272771 non-null  object \n",
      " 17  state         383765 non-null  object \n",
      "dtypes: float64(2), int64(2), object(14)\n",
      "memory usage: 55.6+ MB\n"
     ]
    }
   ],
   "source": [
    "df.info()"
   ]
  },
  {
   "cell_type": "code",
   "execution_count": 50,
   "id": "a08f4b3a",
   "metadata": {},
   "outputs": [],
   "source": [
    "df['price'].fillna(df['price'].mean(), inplace=True)"
   ]
  },
  {
   "cell_type": "code",
   "execution_count": 51,
   "id": "19a8f43d",
   "metadata": {},
   "outputs": [],
   "source": [
    "df['odometer'].fillna(df['odometer'].median(), inplace=True)"
   ]
  },
  {
   "cell_type": "code",
   "execution_count": 52,
   "id": "e3610456",
   "metadata": {},
   "outputs": [],
   "source": [
    "df['manufacturer'].fillna(df['manufacturer'].mode()[0], inplace=True)"
   ]
  },
  {
   "cell_type": "code",
   "execution_count": 53,
   "id": "ba4bfb26",
   "metadata": {},
   "outputs": [],
   "source": [
    "df['condition'].fillna(value='unknown', inplace=True)"
   ]
  },
  {
   "cell_type": "code",
   "execution_count": 54,
   "id": "64a5d516",
   "metadata": {},
   "outputs": [],
   "source": [
    "df['type'].fillna(value='unknown', inplace=True)"
   ]
  },
  {
   "cell_type": "code",
   "execution_count": 55,
   "id": "34b820ad",
   "metadata": {},
   "outputs": [],
   "source": [
    "df['transmission'].fillna(value='unknown', inplace=True)"
   ]
  },
  {
   "cell_type": "code",
   "execution_count": 56,
   "id": "8a2e5b44",
   "metadata": {},
   "outputs": [],
   "source": [
    "df['title_status'].fillna(value='unknown', inplace=True)"
   ]
  },
  {
   "cell_type": "code",
   "execution_count": 57,
   "id": "4b2376ad",
   "metadata": {},
   "outputs": [],
   "source": [
    "df['drive'].fillna(value='unknown', inplace=True)"
   ]
  },
  {
   "cell_type": "code",
   "execution_count": 58,
   "id": "512f1ffa",
   "metadata": {},
   "outputs": [],
   "source": [
    "df['model'].fillna(value='unknown', inplace=True)"
   ]
  },
  {
   "cell_type": "code",
   "execution_count": 59,
   "id": "5102b9d0",
   "metadata": {},
   "outputs": [],
   "source": [
    "#df['year'].dropna(inplace=True)"
   ]
  },
  {
   "cell_type": "code",
   "execution_count": 60,
   "id": "f4d93656",
   "metadata": {},
   "outputs": [],
   "source": [
    "df['fuel'].fillna(value='unknown', inplace=True)"
   ]
  },
  {
   "cell_type": "code",
   "execution_count": 61,
   "id": "0a827ba6",
   "metadata": {},
   "outputs": [],
   "source": [
    "df['size'].fillna(value='unknown', inplace=True)"
   ]
  },
  {
   "cell_type": "code",
   "execution_count": 62,
   "id": "19ef9337",
   "metadata": {},
   "outputs": [],
   "source": [
    "df['cylinders'].fillna(value='unknown', inplace=True)"
   ]
  },
  {
   "cell_type": "code",
   "execution_count": 63,
   "id": "d7ecf326",
   "metadata": {},
   "outputs": [],
   "source": [
    "#df['condition'].fillna(value='unknown', inplace=True)"
   ]
  },
  {
   "cell_type": "code",
   "execution_count": 64,
   "id": "6dfeccf6",
   "metadata": {},
   "outputs": [],
   "source": [
    "df.drop(columns=['VIN'], inplace=True)"
   ]
  },
  {
   "cell_type": "code",
   "execution_count": 65,
   "id": "5547690a",
   "metadata": {},
   "outputs": [],
   "source": [
    "df['paint_color'].fillna(value='unknown', inplace=True)"
   ]
  },
  {
   "cell_type": "code",
   "execution_count": 66,
   "id": "a41d70dc",
   "metadata": {},
   "outputs": [],
   "source": [
    "df.drop_duplicates(inplace=True)"
   ]
  },
  {
   "cell_type": "code",
   "execution_count": 67,
   "id": "ff67d64e",
   "metadata": {},
   "outputs": [],
   "source": [
    "q1 = df['price'].quantile(.25)\n",
    "q3 = df['price'].quantile(.75)\n",
    "\n",
    "IQR = q3 - q1\n",
    "\n",
    "df = df[(df['price'] >= (q1 - 1.5 * IQR)) & (df['price'] <= (q3 + 1.5 * IQR))]"
   ]
  },
  {
   "cell_type": "code",
   "execution_count": 68,
   "id": "1ef113d7",
   "metadata": {},
   "outputs": [
    {
     "name": "stdout",
     "output_type": "stream",
     "text": [
      "<class 'pandas.core.frame.DataFrame'>\n",
      "Index: 375974 entries, 0 to 426879\n",
      "Data columns (total 17 columns):\n",
      " #   Column        Non-Null Count   Dtype  \n",
      "---  ------        --------------   -----  \n",
      " 0   id            375974 non-null  int64  \n",
      " 1   region        375974 non-null  object \n",
      " 2   price         375974 non-null  int64  \n",
      " 3   year          374987 non-null  float64\n",
      " 4   manufacturer  375974 non-null  object \n",
      " 5   model         375974 non-null  object \n",
      " 6   condition     375974 non-null  object \n",
      " 7   cylinders     375974 non-null  object \n",
      " 8   fuel          375974 non-null  object \n",
      " 9   odometer      375974 non-null  float64\n",
      " 10  title_status  375974 non-null  object \n",
      " 11  transmission  375974 non-null  object \n",
      " 12  drive         375974 non-null  object \n",
      " 13  size          375974 non-null  object \n",
      " 14  type          375974 non-null  object \n",
      " 15  paint_color   375974 non-null  object \n",
      " 16  state         375974 non-null  object \n",
      "dtypes: float64(2), int64(2), object(13)\n",
      "memory usage: 51.6+ MB\n"
     ]
    }
   ],
   "source": [
    "df.info()"
   ]
  },
  {
   "cell_type": "code",
   "execution_count": 69,
   "id": "c7f47199",
   "metadata": {},
   "outputs": [
    {
     "data": {
      "text/plain": [
       "id                0\n",
       "region            0\n",
       "price             0\n",
       "year            987\n",
       "manufacturer      0\n",
       "model             0\n",
       "condition         0\n",
       "cylinders         0\n",
       "fuel              0\n",
       "odometer          0\n",
       "title_status      0\n",
       "transmission      0\n",
       "drive             0\n",
       "size              0\n",
       "type              0\n",
       "paint_color       0\n",
       "state             0\n",
       "dtype: int64"
      ]
     },
     "execution_count": 69,
     "metadata": {},
     "output_type": "execute_result"
    }
   ],
   "source": [
    "df.isnull().sum()"
   ]
  },
  {
   "cell_type": "code",
   "execution_count": 70,
   "id": "541a20a4",
   "metadata": {},
   "outputs": [],
   "source": [
    "df.dropna(axis = 0, inplace=True)"
   ]
  },
  {
   "cell_type": "code",
   "execution_count": 71,
   "id": "a39294e7",
   "metadata": {},
   "outputs": [
    {
     "data": {
      "text/plain": [
       "id              0\n",
       "region          0\n",
       "price           0\n",
       "year            0\n",
       "manufacturer    0\n",
       "model           0\n",
       "condition       0\n",
       "cylinders       0\n",
       "fuel            0\n",
       "odometer        0\n",
       "title_status    0\n",
       "transmission    0\n",
       "drive           0\n",
       "size            0\n",
       "type            0\n",
       "paint_color     0\n",
       "state           0\n",
       "dtype: int64"
      ]
     },
     "execution_count": 71,
     "metadata": {},
     "output_type": "execute_result"
    }
   ],
   "source": [
    "df.isnull().sum()"
   ]
  },
  {
   "cell_type": "code",
   "execution_count": 72,
   "id": "de9dd9cd",
   "metadata": {},
   "outputs": [],
   "source": [
    "df_cylinder = df.groupby(['cylinders'])[['price']].value_counts()"
   ]
  },
  {
   "cell_type": "code",
   "execution_count": 73,
   "id": "2c482454",
   "metadata": {},
   "outputs": [],
   "source": [
    "df_cylinder = df_cylinder.reset_index()"
   ]
  },
  {
   "cell_type": "code",
   "execution_count": 74,
   "id": "1949bd3e",
   "metadata": {},
   "outputs": [
    {
     "data": {
      "text/html": [
       "<div>\n",
       "<style scoped>\n",
       "    .dataframe tbody tr th:only-of-type {\n",
       "        vertical-align: middle;\n",
       "    }\n",
       "\n",
       "    .dataframe tbody tr th {\n",
       "        vertical-align: top;\n",
       "    }\n",
       "\n",
       "    .dataframe thead th {\n",
       "        text-align: right;\n",
       "    }\n",
       "</style>\n",
       "<table border=\"1\" class=\"dataframe\">\n",
       "  <thead>\n",
       "    <tr style=\"text-align: right;\">\n",
       "      <th></th>\n",
       "      <th>cylinders</th>\n",
       "      <th>price</th>\n",
       "      <th>count</th>\n",
       "    </tr>\n",
       "  </thead>\n",
       "  <tbody>\n",
       "    <tr>\n",
       "      <th>0</th>\n",
       "      <td>10 cylinders</td>\n",
       "      <td>24990</td>\n",
       "      <td>28</td>\n",
       "    </tr>\n",
       "    <tr>\n",
       "      <th>1</th>\n",
       "      <td>10 cylinders</td>\n",
       "      <td>22990</td>\n",
       "      <td>28</td>\n",
       "    </tr>\n",
       "    <tr>\n",
       "      <th>2</th>\n",
       "      <td>10 cylinders</td>\n",
       "      <td>30990</td>\n",
       "      <td>27</td>\n",
       "    </tr>\n",
       "    <tr>\n",
       "      <th>3</th>\n",
       "      <td>10 cylinders</td>\n",
       "      <td>35990</td>\n",
       "      <td>27</td>\n",
       "    </tr>\n",
       "    <tr>\n",
       "      <th>4</th>\n",
       "      <td>10 cylinders</td>\n",
       "      <td>22950</td>\n",
       "      <td>23</td>\n",
       "    </tr>\n",
       "    <tr>\n",
       "      <th>...</th>\n",
       "      <td>...</td>\n",
       "      <td>...</td>\n",
       "      <td>...</td>\n",
       "    </tr>\n",
       "    <tr>\n",
       "      <th>24465</th>\n",
       "      <td>unknown</td>\n",
       "      <td>657</td>\n",
       "      <td>1</td>\n",
       "    </tr>\n",
       "    <tr>\n",
       "      <th>24466</th>\n",
       "      <td>unknown</td>\n",
       "      <td>640</td>\n",
       "      <td>1</td>\n",
       "    </tr>\n",
       "    <tr>\n",
       "      <th>24467</th>\n",
       "      <td>unknown</td>\n",
       "      <td>646</td>\n",
       "      <td>1</td>\n",
       "    </tr>\n",
       "    <tr>\n",
       "      <th>24468</th>\n",
       "      <td>unknown</td>\n",
       "      <td>651</td>\n",
       "      <td>1</td>\n",
       "    </tr>\n",
       "    <tr>\n",
       "      <th>24469</th>\n",
       "      <td>unknown</td>\n",
       "      <td>656</td>\n",
       "      <td>1</td>\n",
       "    </tr>\n",
       "  </tbody>\n",
       "</table>\n",
       "<p>24470 rows × 3 columns</p>\n",
       "</div>"
      ],
      "text/plain": [
       "          cylinders  price  count\n",
       "0      10 cylinders  24990     28\n",
       "1      10 cylinders  22990     28\n",
       "2      10 cylinders  30990     27\n",
       "3      10 cylinders  35990     27\n",
       "4      10 cylinders  22950     23\n",
       "...             ...    ...    ...\n",
       "24465       unknown    657      1\n",
       "24466       unknown    640      1\n",
       "24467       unknown    646      1\n",
       "24468       unknown    651      1\n",
       "24469       unknown    656      1\n",
       "\n",
       "[24470 rows x 3 columns]"
      ]
     },
     "execution_count": 74,
     "metadata": {},
     "output_type": "execute_result"
    }
   ],
   "source": [
    "df_cylinder"
   ]
  },
  {
   "cell_type": "code",
   "execution_count": 75,
   "id": "8b886081",
   "metadata": {},
   "outputs": [
    {
     "data": {
      "text/plain": [
       "<Axes: xlabel='cylinders', ylabel='price'>"
      ]
     },
     "execution_count": 75,
     "metadata": {},
     "output_type": "execute_result"
    },
    {
     "data": {
      "image/png": "[encoded data removed]",
      "text/plain": [
       "<Figure size 1000x800 with 1 Axes>"
      ]
     },
     "metadata": {},
     "output_type": "display_data"
    }
   ],
   "source": [
    "plt.figure(figsize=(10,8))\n",
    "sns.barplot(df_cylinder, x = 'cylinders', y='price', hue='count')"
   ]
  },
  {
   "cell_type": "code",
   "execution_count": 76,
   "id": "5fa1b88a",
   "metadata": {},
   "outputs": [
    {
     "data": {
      "text/plain": [
       "<Figure size 1000x800 with 0 Axes>"
      ]
     },
     "metadata": {},
     "output_type": "display_data"
    }
   ],
   "source": [
    "plt.figure(figsize=(10,8))\n",
    "px.bar(df_cylinder, x = 'cylinders', y='price', color='count')\n",
    "plt.show()"
   ]
  },
  {
   "cell_type": "code",
   "execution_count": 77,
   "id": "bf8fd054",
   "metadata": {},
   "outputs": [
    {
     "data": {
      "text/plain": [
       "<BarContainer object of 24470 artists>"
      ]
     },
     "execution_count": 77,
     "metadata": {},
     "output_type": "execute_result"
    },
    {
     "data": {
      "image/png": "[encoded data removed]",
      "text/plain": [
       "<Figure size 1200x800 with 1 Axes>"
      ]
     },
     "metadata": {},
     "output_type": "display_data"
    }
   ],
   "source": [
    "plt.figure(figsize=(12,8))\n",
    "plt.bar(df_cylinder['cylinders'], height=df_cylinder['count'])"
   ]
  },
  {
   "cell_type": "code",
   "execution_count": 78,
   "id": "bf001205",
   "metadata": {},
   "outputs": [
    {
     "data": {
      "text/plain": [
       "<BarContainer object of 24470 artists>"
      ]
     },
     "execution_count": 78,
     "metadata": {},
     "output_type": "execute_result"
    },
    {
     "data": {
      "image/png": "[encoded data removed]",
      "text/plain": [
       "<Figure size 1200x800 with 1 Axes>"
      ]
     },
     "metadata": {},
     "output_type": "display_data"
    }
   ],
   "source": [
    "plt.figure(figsize=(12,8))\n",
    "plt.bar(df_cylinder['cylinders'], height=df_cylinder['price'])"
   ]
  },
  {
   "cell_type": "code",
   "execution_count": 79,
   "id": "6c8bbced",
   "metadata": {},
   "outputs": [],
   "source": [
    "# Findings: Cylinder matters alot"
   ]
  },
  {
   "cell_type": "code",
   "execution_count": 80,
   "id": "8be3bc7a",
   "metadata": {},
   "outputs": [],
   "source": [
    "df_cylinder_temp = df.query('(cylinders != \"unknown\") & (cylinders != \"other\")')"
   ]
  },
  {
   "cell_type": "code",
   "execution_count": 81,
   "id": "20e64b65",
   "metadata": {},
   "outputs": [],
   "source": [
    "df_cylinder_temp = df_cylinder_temp.replace({'cylinders' : {'5 cylinders' : 5, '4 cylinders' : 4, '3 cylinders' : 3, '8 cylinders' : 8, '6 cylinders' : 6, '10 cylinders' : 10, '12 cylinders' : 12}})"
   ]
  },
  {
   "cell_type": "code",
   "execution_count": 82,
   "id": "00ec5d1f",
   "metadata": {},
   "outputs": [],
   "source": [
    "df_cylinder_temp['cylinders'] = pd.to_numeric(df_cylinder_temp['cylinders'])"
   ]
  },
  {
   "cell_type": "code",
   "execution_count": 113,
   "id": "fa974f12",
   "metadata": {},
   "outputs": [
    {
     "data": {
      "text/plain": [
       "57500"
      ]
     },
     "execution_count": 113,
     "metadata": {},
     "output_type": "execute_result"
    }
   ],
   "source": [
    "df_cylinder_temp.query('(cylinders == 3) & (condition == \"excellent\")')['price'].max()"
   ]
  },
  {
   "cell_type": "code",
   "execution_count": 84,
   "id": "9361320c",
   "metadata": {},
   "outputs": [
    {
     "data": {
      "text/plain": [
       "<matplotlib.collections.PathCollection at 0x33c545a90>"
      ]
     },
     "execution_count": 84,
     "metadata": {},
     "output_type": "execute_result"
    },
    {
     "data": {
      "image/png": "[encoded data removed]",
      "text/plain": [
       "<Figure size 640x480 with 1 Axes>"
      ]
     },
     "metadata": {},
     "output_type": "display_data"
    }
   ],
   "source": [
    "plt.scatter(df_cylinder_temp['cylinders'],  y=df_cylinder_temp['price'])"
   ]
  },
  {
   "cell_type": "code",
   "execution_count": 87,
   "id": "d56c1bae",
   "metadata": {},
   "outputs": [],
   "source": [
    "df_condition = df.groupby('condition')[['price']].sum()"
   ]
  },
  {
   "cell_type": "code",
   "execution_count": 89,
   "id": "4f058077",
   "metadata": {},
   "outputs": [],
   "source": [
    "df_condition_count = df.groupby('condition')[['price']].value_counts()"
   ]
  },
  {
   "cell_type": "code",
   "execution_count": 91,
   "id": "ea28a1b5",
   "metadata": {},
   "outputs": [],
   "source": [
    "df_condition_count = df_condition_count.reset_index()"
   ]
  },
  {
   "cell_type": "code",
   "execution_count": 92,
   "id": "0b08b53f",
   "metadata": {},
   "outputs": [
    {
     "data": {
      "text/html": [
       "<div>\n",
       "<style scoped>\n",
       "    .dataframe tbody tr th:only-of-type {\n",
       "        vertical-align: middle;\n",
       "    }\n",
       "\n",
       "    .dataframe tbody tr th {\n",
       "        vertical-align: top;\n",
       "    }\n",
       "\n",
       "    .dataframe thead th {\n",
       "        text-align: right;\n",
       "    }\n",
       "</style>\n",
       "<table border=\"1\" class=\"dataframe\">\n",
       "  <thead>\n",
       "    <tr style=\"text-align: right;\">\n",
       "      <th></th>\n",
       "      <th>condition</th>\n",
       "      <th>price</th>\n",
       "      <th>count</th>\n",
       "    </tr>\n",
       "  </thead>\n",
       "  <tbody>\n",
       "    <tr>\n",
       "      <th>0</th>\n",
       "      <td>excellent</td>\n",
       "      <td>7995</td>\n",
       "      <td>1059</td>\n",
       "    </tr>\n",
       "    <tr>\n",
       "      <th>1</th>\n",
       "      <td>excellent</td>\n",
       "      <td>9995</td>\n",
       "      <td>927</td>\n",
       "    </tr>\n",
       "    <tr>\n",
       "      <th>2</th>\n",
       "      <td>excellent</td>\n",
       "      <td>6995</td>\n",
       "      <td>918</td>\n",
       "    </tr>\n",
       "    <tr>\n",
       "      <th>3</th>\n",
       "      <td>excellent</td>\n",
       "      <td>8995</td>\n",
       "      <td>885</td>\n",
       "    </tr>\n",
       "    <tr>\n",
       "      <th>4</th>\n",
       "      <td>excellent</td>\n",
       "      <td>6500</td>\n",
       "      <td>864</td>\n",
       "    </tr>\n",
       "    <tr>\n",
       "      <th>...</th>\n",
       "      <td>...</td>\n",
       "      <td>...</td>\n",
       "      <td>...</td>\n",
       "    </tr>\n",
       "    <tr>\n",
       "      <th>22457</th>\n",
       "      <td>unknown</td>\n",
       "      <td>15570</td>\n",
       "      <td>1</td>\n",
       "    </tr>\n",
       "    <tr>\n",
       "      <th>22458</th>\n",
       "      <td>unknown</td>\n",
       "      <td>15575</td>\n",
       "      <td>1</td>\n",
       "    </tr>\n",
       "    <tr>\n",
       "      <th>22459</th>\n",
       "      <td>unknown</td>\n",
       "      <td>15578</td>\n",
       "      <td>1</td>\n",
       "    </tr>\n",
       "    <tr>\n",
       "      <th>22460</th>\n",
       "      <td>unknown</td>\n",
       "      <td>15591</td>\n",
       "      <td>1</td>\n",
       "    </tr>\n",
       "    <tr>\n",
       "      <th>22461</th>\n",
       "      <td>unknown</td>\n",
       "      <td>15594</td>\n",
       "      <td>1</td>\n",
       "    </tr>\n",
       "  </tbody>\n",
       "</table>\n",
       "<p>22462 rows × 3 columns</p>\n",
       "</div>"
      ],
      "text/plain": [
       "       condition  price  count\n",
       "0      excellent   7995   1059\n",
       "1      excellent   9995    927\n",
       "2      excellent   6995    918\n",
       "3      excellent   8995    885\n",
       "4      excellent   6500    864\n",
       "...          ...    ...    ...\n",
       "22457    unknown  15570      1\n",
       "22458    unknown  15575      1\n",
       "22459    unknown  15578      1\n",
       "22460    unknown  15591      1\n",
       "22461    unknown  15594      1\n",
       "\n",
       "[22462 rows x 3 columns]"
      ]
     },
     "execution_count": 92,
     "metadata": {},
     "output_type": "execute_result"
    }
   ],
   "source": [
    "df_condition_count"
   ]
  },
  {
   "cell_type": "code",
   "execution_count": 94,
   "id": "3cf4acb2",
   "metadata": {},
   "outputs": [
    {
     "data": {
      "text/plain": [
       "<BarContainer object of 22462 artists>"
      ]
     },
     "execution_count": 94,
     "metadata": {},
     "output_type": "execute_result"
    },
    {
     "data": {
      "image/png": "[encoded data removed]",
      "text/plain": [
       "<Figure size 1200x800 with 1 Axes>"
      ]
     },
     "metadata": {},
     "output_type": "display_data"
    }
   ],
   "source": [
    "plt.figure(figsize=(12,8))\n",
    "plt.bar(df_condition_count['condition'], height=df_condition_count['count'])"
   ]
  },
  {
   "cell_type": "code",
   "execution_count": 95,
   "id": "c443949d",
   "metadata": {},
   "outputs": [
    {
     "data": {
      "text/plain": [
       "<BarContainer object of 22462 artists>"
      ]
     },
     "execution_count": 95,
     "metadata": {},
     "output_type": "execute_result"
    },
    {
     "data": {
      "image/png": "[encoded data removed]",
      "text/plain": [
       "<Figure size 1200x800 with 1 Axes>"
      ]
     },
     "metadata": {},
     "output_type": "display_data"
    }
   ],
   "source": [
    "plt.figure(figsize=(12,8))\n",
    "plt.bar(df_condition_count['condition'], height=df_condition_count['price'])"
   ]
  },
  {
   "cell_type": "code",
   "execution_count": null,
   "id": "99da7e99",
   "metadata": {},
   "outputs": [],
   "source": [
    "df_size = df.groupby('size')[['price']].sum()"
   ]
  },
  {
   "cell_type": "code",
   "execution_count": null,
   "id": "3d35b11a",
   "metadata": {},
   "outputs": [],
   "source": [
    "df_year = df.groupby('year')[['price']].sum()"
   ]
  },
  {
   "cell_type": "code",
   "execution_count": null,
   "id": "fd459dc7",
   "metadata": {},
   "outputs": [],
   "source": [
    "df_transmission = df.groupby('transmission')[['price']].sum()"
   ]
  },
  {
   "cell_type": "code",
   "execution_count": null,
   "id": "56abbc97",
   "metadata": {},
   "outputs": [],
   "source": [
    "df_model = df.groupby('model')[['price']].sum()"
   ]
  },
  {
   "cell_type": "code",
   "execution_count": null,
   "id": "2c1010b7",
   "metadata": {},
   "outputs": [],
   "source": [
    "df_drive = df.groupby('drive')[['price']].sum()"
   ]
  },
  {
   "cell_type": "code",
   "execution_count": null,
   "id": "da19fec3",
   "metadata": {},
   "outputs": [],
   "source": [
    "df_cylinder = df_cylinder.reset_index()"
   ]
  },
  {
   "cell_type": "code",
   "execution_count": null,
   "id": "fbf77b3c",
   "metadata": {},
   "outputs": [],
   "source": [
    "df_cylinder"
   ]
  },
  {
   "cell_type": "code",
   "execution_count": null,
   "id": "8b99af96",
   "metadata": {},
   "outputs": [],
   "source": [
    "df_cylinder.plot()"
   ]
  },
  {
   "cell_type": "code",
   "execution_count": null,
   "id": "4fb95504",
   "metadata": {},
   "outputs": [],
   "source": [
    "df.isnull().sum()"
   ]
  },
  {
   "cell_type": "code",
   "execution_count": null,
   "id": "9d4f41bc",
   "metadata": {},
   "outputs": [],
   "source": []
  },
  {
   "cell_type": "code",
   "execution_count": null,
   "id": "49b1107f",
   "metadata": {},
   "outputs": [],
   "source": []
  }
 ],
 "metadata": {
  "kernelspec": {
   "display_name": "Python 3 (ipykernel)",
   "language": "python",
   "name": "python3"
  },
  "language_info": {
   "codemirror_mode": {
    "name": "ipython",
    "version": 3
   },
   "file_extension": ".py",
   "mimetype": "text/x-python",
   "name": "python",
   "nbconvert_exporter": "python",
   "pygments_lexer": "ipython3",
   "version": "3.11.7"
  }
 },
 "nbformat": 4,
 "nbformat_minor": 5
}
