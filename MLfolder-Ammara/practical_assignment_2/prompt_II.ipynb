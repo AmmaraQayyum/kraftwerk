{
 "cells": [
  {
   "cell_type": "markdown",
   "metadata": {},
   "source": [
    "# What drives the price of a car?\n",
    "\n",
    "![](images/kurt.jpeg)"
   ]
  },
  {
   "cell_type": "markdown",
   "metadata": {},
   "source": [
    "**OVERVIEW**\n",
    "\n",
    "In this application, you will explore a dataset from kaggle. The original dataset contained information on 3 million used cars. The provided dataset contains information on 426K cars to ensure speed of processing.  Your goal is to understand what factors make a car more or less expensive.  As a result of your analysis, you should provide clear recommendations to your client -- a used car dealership -- as to what consumers value in a used car."
   ]
  },
  {
   "cell_type": "markdown",
   "metadata": {},
   "source": [
    "### CRISP-DM Framework\n",
    "\n",
    "<center>\n",
    "    <img src = images/crisp.png width = 50%/>\n",
    "</center>\n",
    "\n",
    "\n",
    "To frame the task, throughout our practical applications we will refer back to a standard process in industry for data projects called CRISP-DM.  This process provides a framework for working through a data problem.  Your first step in this application will be to read through a brief overview of CRISP-DM [here](https://mo-pcco.s3.us-east-1.amazonaws.com/BH-PCMLAI/module_11/readings_starter.zip).  After reading the overview, answer the questions below."
   ]
  },
  {
   "cell_type": "markdown",
   "metadata": {},
   "source": [
    "### Business Understanding\n",
    "\n",
    "From a business perspective, we are tasked with identifying key drivers for used car prices.  In the CRISP-DM overview, we are asked to convert this business framing to a data problem definition.  Using a few sentences, reframe the task as a data task with the appropriate technical vocabulary. "
   ]
  },
  {
   "cell_type": "markdown",
   "metadata": {},
   "source": [
    "# Answer:\n",
    "The objective is to develop a predictive model that identifies the most significant features influencing the \n",
    "pricing of used cars. This involves analyzing a dataset of used car transactions to determine which variables\n",
    "—such as the car's maker, model, year of manufacture, type of drive, condition, and fuel type—most strongly correlate with \n",
    "variations in price. The process includes feature selection, where we will evaluate the impact of each feature on \n",
    "the target variable (price), and model training, where we apply regression techniques to predict prices based on \n",
    "these key features. By understanding these relationships, we aim to provide actionable insights for pricing \n",
    "strategies and valuation accuracy."
   ]
  },
  {
   "cell_type": "code",
   "execution_count": null,
   "metadata": {},
   "outputs": [],
   "source": []
  },
  {
   "cell_type": "code",
   "execution_count": null,
   "metadata": {},
   "outputs": [],
   "source": []
  },
  {
   "cell_type": "code",
   "execution_count": null,
   "metadata": {},
   "outputs": [],
   "source": []
  },
  {
   "cell_type": "markdown",
   "metadata": {},
   "source": [
    "### Data Understanding\n",
    "\n",
    "After considering the business understanding, we want to get familiar with our data.  Write down some steps that you would take to get to know the dataset and identify any quality issues within.  Take time to get to know the dataset and explore what information it contains and how this could be used to inform your business understanding."
   ]
  },
  {
   "cell_type": "markdown",
   "metadata": {},
   "source": [
    "# Answer:\n",
    "The dataset includes several features that are essential for determining the prices of used vehicles, as well as \n",
    "features that provide additional information about the vehicles. Upon examining the data, it became evident that \n",
    "the price column contains unrealistic values, such as entries with the values 1, 2, 3, and so on. These outliers \n",
    "significantly deviate from expected price ranges.\n",
    "\n",
    "Additionally, the odometer column includes non-numeric values that introduce ambiguity, complicating accurate \n",
    "analysis. The dataset also includes a region column with city-level information, which may not be relevant for \n",
    "price determination. Furthermore, the VIN number serves solely as a unique identifier for each vehicle and does \n",
    "not contribute to pricing.\n",
    "\n",
    "Several other columns in the dataset are more relevant for determining vehicle prices. These include the vehicle \n",
    "type, manufacturer, drive type, and several additional features that collectively offer valuable insights into the \n",
    "vehicle’s market value."
   ]
  },
  {
   "cell_type": "code",
   "execution_count": null,
   "metadata": {},
   "outputs": [],
   "source": []
  },
  {
   "cell_type": "code",
   "execution_count": null,
   "metadata": {},
   "outputs": [],
   "source": []
  },
  {
   "cell_type": "code",
   "execution_count": null,
   "metadata": {},
   "outputs": [],
   "source": []
  },
  {
   "cell_type": "markdown",
   "metadata": {},
   "source": [
    "### Data Preparation\n",
    "\n",
    "After our initial exploration and fine tuning of the business understanding, it is time to construct our final dataset prior to modeling.  Here, we want to make sure to handle any integrity issues and cleaning, the engineering of new features, any transformations that we believe should happen (scaling, logarithms, normalization, etc.), and general preparation for modeling with `sklearn`. "
   ]
  },
  {
   "cell_type": "markdown",
   "metadata": {},
   "source": [
    "# Preprocessing Steps:\n",
    "\n",
    "1: Drop the outlier from the price column.\n",
    "2: Drop the columns: VIN, region, odometer, model.\n",
    "3: Impute the null values with the appropriate values depending on each column.\n",
    "4: Drop null if any.\n",
    "5: Drop duplicate rows.\n",
    "6: Convert all non numerical columns to numerical ones.\n",
    "7: Reset the index of the clean and encoded data frame."
   ]
  },
  {
   "cell_type": "code",
   "execution_count": null,
   "metadata": {},
   "outputs": [],
   "source": []
  },
  {
   "cell_type": "code",
   "execution_count": null,
   "metadata": {},
   "outputs": [],
   "source": []
  },
  {
   "cell_type": "code",
   "execution_count": null,
   "metadata": {},
   "outputs": [],
   "source": []
  },
  {
   "cell_type": "code",
   "execution_count": null,
   "metadata": {},
   "outputs": [],
   "source": []
  },
  {
   "cell_type": "markdown",
   "metadata": {},
   "source": [
    "### Modeling\n",
    "\n",
    "With your (almost?) final dataset in hand, it is now time to build some models.  Here, you should build a number of different regression models with the price as the target.  In building your models, you should explore different parameters and be sure to cross-validate your findings."
   ]
  },
  {
   "cell_type": "markdown",
   "metadata": {},
   "source": [
    "# To meet the requirement, the following models were implemented by experimenting with the different options:\n",
    "    \n",
    "1: Linear Regression with all features encoded with manual ordinal imputation and onehotencoding.\n",
    "2: Linear Regression with all features encoded with manual ordinal imputation and getdummies feature.\n",
    "3: Linear Regression model with only 4 features selected through sequential feature selection performed on the data\n",
    "    that has been encoded through manual imputation and get dummies feature.\n",
    "4: Linear Regression model with 8 features selected manually based on the observation fitted on the encoded data.\n",
    "5: Linear Regression model with 5 features selected manually based on the observation fitted on the encoded data.\n",
    "6: Linear Regression model with 4 features selected by forward sequential feature selection and encoded by \n",
    "   ColumnTransformer.\n",
    "7: Ridge model with 6 features selected by forward sequential feature selection and encoded by ColumnTransformer.\n",
    "8: RandomForestClassifier along with 6 features selected by forward sequential feature selection.\n"
   ]
  },
  {
   "cell_type": "code",
   "execution_count": null,
   "metadata": {},
   "outputs": [],
   "source": []
  },
  {
   "cell_type": "code",
   "execution_count": null,
   "metadata": {},
   "outputs": [],
   "source": []
  },
  {
   "cell_type": "code",
   "execution_count": null,
   "metadata": {},
   "outputs": [],
   "source": []
  },
  {
   "cell_type": "markdown",
   "metadata": {},
   "source": [
    "### Evaluation\n",
    "\n",
    "With some modeling accomplished, we aim to reflect on what we identify as a high quality model and what we are able to learn from this.  We should review our business objective and explore how well we can provide meaningful insight on drivers of used car prices.  Your goal now is to distill your findings and determine whether the earlier phases need revisitation and adjustment or if you have information of value to bring back to your client."
   ]
  },
  {
   "cell_type": "markdown",
   "metadata": {},
   "source": [
    "# Answer:\n",
    "To evalute the performance of the model, following techniques were used:\n",
    "    1: Mean Square Error\n",
    "    2: Root mean Square Error\n",
    "    3: Kfold with cv=5\n",
    "The resultant MSES' are plotted for better visualization. Based on the results, Linear Regression with all features\n",
    "encoded with manual ordinal imputation and getdummies feature with the lowest MSE value of 64404485.\n",
    "\n"
   ]
  },
  {
   "cell_type": "code",
   "execution_count": null,
   "metadata": {},
   "outputs": [],
   "source": []
  },
  {
   "cell_type": "code",
   "execution_count": null,
   "metadata": {},
   "outputs": [],
   "source": []
  },
  {
   "cell_type": "code",
   "execution_count": null,
   "metadata": {},
   "outputs": [],
   "source": []
  },
  {
   "cell_type": "code",
   "execution_count": null,
   "metadata": {},
   "outputs": [],
   "source": []
  },
  {
   "cell_type": "code",
   "execution_count": null,
   "metadata": {},
   "outputs": [],
   "source": []
  },
  {
   "cell_type": "markdown",
   "metadata": {},
   "source": [
    "### Deployment\n",
    "\n",
    "Now that we've settled on our models and findings, it is time to deliver the information to the client.  You should organize your work as a basic report that details your primary findings.  Keep in mind that your audience is a group of used car dealers interested in fine tuning their inventory."
   ]
  },
  {
   "cell_type": "markdown",
   "metadata": {},
   "source": [
    "# Answer:\n",
    "    \n",
    "Based on the analysis of the plots, model performance, and observations, it is evident that the following features \n",
    "are most critical in determining the price of a used car:\n",
    "\n",
    "1:Year of Manufacture: The age of the car significantly impacts its value.\n",
    "2:Condition of the Car: The physical and mechanical state of the vehicle plays a crucial role in pricing.\n",
    "3:Size of the Car: Larger cars generally have a different price range compared to smaller vehicles.\n",
    "4:Type of Vehicle: Whether the car is an SUV, Mini-Van, or another type affects its price.\n",
    "5:Type of Fuel a vehicle utilize.\n",
    "\n",
    "The above model will be reliable enough to \n",
    "These findings align with real-world expectations, as these features are well-known to influence the price of used \n",
    "cars. The correlation between these factors and car pricing is consistent with practical market trends.\n",
    "\n",
    "Adding additional features to the model is likely to enhance its performance. Yet to yield the better results,\n",
    "model should include the following 8 features:\n",
    "    [['year','cylinders','size' ,'transmission', 'condition', 'fuel', 'manufacturer', 'type']]"
   ]
  },
  {
   "cell_type": "code",
   "execution_count": null,
   "metadata": {},
   "outputs": [],
   "source": []
  },
  {
   "cell_type": "code",
   "execution_count": null,
   "metadata": {},
   "outputs": [],
   "source": []
  },
  {
   "cell_type": "code",
   "execution_count": null,
   "metadata": {},
   "outputs": [],
   "source": []
  },
  {
   "cell_type": "code",
   "execution_count": null,
   "metadata": {},
   "outputs": [],
   "source": []
  },
  {
   "cell_type": "code",
   "execution_count": null,
   "metadata": {},
   "outputs": [],
   "source": []
  },
  {
   "cell_type": "code",
   "execution_count": null,
   "metadata": {},
   "outputs": [],
   "source": []
  }
 ],
 "metadata": {
  "kernelspec": {
   "display_name": "Python 3 (ipykernel)",
   "language": "python",
   "name": "python3"
  },
  "language_info": {
   "codemirror_mode": {
    "name": "ipython",
    "version": 3
   },
   "file_extension": ".py",
   "mimetype": "text/x-python",
   "name": "python",
   "nbconvert_exporter": "python",
   "pygments_lexer": "ipython3",
   "version": "3.11.7"
  },
  "widgets": {
   "application/vnd.jupyter.widget-state+json": {
    "state": {},
    "version_major": 2,
    "version_minor": 0
   }
  }
 },
 "nbformat": 4,
 "nbformat_minor": 4
}
