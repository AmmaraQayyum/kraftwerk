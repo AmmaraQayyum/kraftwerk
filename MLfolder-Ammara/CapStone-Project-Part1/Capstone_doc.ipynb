{
 "cells": [
  {
   "cell_type": "markdown",
   "metadata": {},
   "source": [
    "# What leads to intense severity impairment index (Sii)?\n",
    "\n",
    "![](images/kurt.jpeg)"
   ]
  },
  {
   "cell_type": "markdown",
   "metadata": {},
   "source": [
    "### Business Understanding\n",
    "Problematic Internet Usage is a predictive model designed to identify the likelihood of problematic internet usage among children. Using data on physical attributes and demographic factors, the model assesses and predicts the severity index of internet usage among adolescents. By leveraging machine learning techniques, the model aims to provide actionable insights for early identification and intervention."
   ]
  },
  {
   "cell_type": "markdown",
   "metadata": {},
   "source": [
    "### Data Understanding\n",
    "The provided dataset is available in two file formats: CSV and Parquet. The CSV files contain data primarily related to demographics, such as sex and age, along with physical attributes like weight, height, and BMI of the participants. In contrast, the Parquet files exclusively house data related to physical activity recorded by accelerometers worn by the participants during the data collection period.\n",
    "The CSV files include a unique identifier for each participant and 82 additional features. These features are a mix of numerical data, such as bioelectrical and physical attributes, and categorical data derived from survey responses collected during the evaluation process. On the other hand, the Parquet files focus solely on 13 numerical features, representing detailed metrics captured by the accelerometers.\n",
    "The target variable in the dataset is categorical, classifying participants into four categories: 0 for None, 1 for Mild, 2 for Moderate, and 3 for Severe. This classification indicates the severity level of problematic internet usage, serving as the basis for predictive analysis."
   ]
  },
  {
   "cell_type": "markdown",
   "metadata": {},
   "source": [
    "### Data Preparation\n",
    "The dataset contains a significant number of null values, including the target variable, where nearly one-third of the entries are missing. Additionally, most features exhibit a modal distribution rather than a normal distribution, and some features contain notable outliers. The following steps were taken to prepare the data for analysis:\n",
    "Set User ID as Index: Establish the unique user identifier as the DataFrame index for efficient data manipulation. Handle Outliers: Identify and remove outliers across all features to enhance data quality. Clean Target Variable: Remove rows where the target variable contains null values. Impute Missing Values: Use the K-Nearest Neighbors (KNN) imputer to estimate and fill missing values in the remaining features. Eliminate Residual Nulls: Drop any rows with residual null values post-imputation to ensure a clean dataset. Remove Duplicates: Identify and drop duplicate rows to eliminate redundancy. Feature Transformation: Apply OneHotEncoder to categorical variables and StandardScaler to numerical variables for consistent scaling and encoding. This systematic approach ensures the dataset is clean, complete, and ready for downstream analysis or model training."
   ]
  },
  {
   "cell_type": "markdown",
   "metadata": {},
   "source": [
    "### Modeling\n",
    "Five distinct models were implemented, each differentiated by the preprocessing approach and the features used for training. These variations were designed to evaluate the impact of data preparation techniques on the model's performance. Each model is evaluated by multiple algorithms including: HistGradientBoosting, KNN Classifier, Logistic Regression, SVM Classifier, DecisionTree Classifier, RandomForest Classifer.\n",
    "First Model: The first model was trained after calculating the correlation matrix to identify feature relationships. Features with correlation values below a specified threshold were discarded to reduce noise and dimensionality.\n",
    "Second Model: The second model incorporated merged data from the Parquet and CSV files. This unified dataset combined demographic, physical, and accelerometer features to provide a comprehensive feature set.\n",
    "Third Model: The third model was built similarly to the second model but with two key differences:\n",
    "Outliers were retained instead of being removed. Features were scaled using a StandardScaler before training the model. Fourth Model: The fourth model utilized Principal Component Analysis (PCA) for dimensionality reduction. The merged dataset was transformed using only two principal components rather than the full set of features. Despite the significant reduction in dimensionality, the model achieved satisfactory accuracy.\n",
    "Fifth Model: The final model was implemented on the merged dataset, applying a combination of PCA and manual feature selection to further reduce dimensionality. This approach balanced the advantages of automated and manual feature selection methods."
   ]
  },
  {
   "cell_type": "markdown",
   "metadata": {},
   "source": [
    "### Evaluation\n",
    "\n",
    "To evalute the performance of the model, following techniques were used: 1: Accuracy Score 2: Mean Square Error 3: Confusion Matrix\n",
    "First Model's Results: Accuracy (HistGradientBoosting): 1.0 Mean Squared Error (HistGradientBoosting): 0.0 Accuracy of KNN classifier: 0.9668 Mean Squared Error of KNN classifier: 0.03319502074688797 Accuracy of Logistic Regression: 0.9876 Mean Squared Error Logistic Regression: 0.012448132780082987 Accuracy of SVM classifier: 0.9772 Mean Squared Error of SVM classifier: 0.022821576763485476 Accuracy of Decision Tree classifier: 1.0000 Mean Squared Error of Decision Tree classifier: 0.0 Accuracy of Random Forest classifier: 0.9959 Mean Squared Error of Random Forest classifier: 0.004149377593360996\n",
    "Second Model's Results: Accuracy (HistGradientBoosting): 0.9782608695652174 Mean Squared Error (HistGradientBoosting): 0.021739130434782608 Accuracy of KNN classifier: 0.7391 Mean Squared Error of KNN classifier: 0.32608695652173914 Accuracy of Logistic Regression: 0.7391 Mean Squared Error Logistic Regression: 0.32608695652173914 Accuracy of SVM classifier: 0.7391 Mean Squared Error of SVM classifier: 0.32608695652173914 Accuracy of Decision Tree classifier: 1.0000 Mean Squared Error of Decision Tree classifier: 0.0 Accuracy of Random Forest classifier: 0.9348 Mean Squared Error of Random Forest classifier: 0.06521739130434782\n",
    "Third Model's Results: Accuracy (HistGradientBoosting): 0.99 Mean Squared Error (HistGradientBoosting): 0.01 Accuracy of KNN classifier: 0.8450 Mean Squared Error of KNN classifier: 0.155 Accuracy of Logistic Regression: 0.9300 Mean Squared Error Logistic Regression: 0.07 Accuracy of SVM classifier: 0.9400 Mean Squared Error of SVM classifier: 0.06 Accuracy of Decision Tree classifier: 1.0000 Mean Squared Error of Decision Tree classifier: 0.0 Accuracy of Random Forest classifier: 0.9900 Mean Squared Error of Random Forest classifier: 0.01\n",
    "Four Model's Results: Accuracy of Logistic regression: 0.95 Accuracy of Decision Tree: 0.89 Accuracy of Random Forest: 0.94\n",
    "Five Model's Results: Accuracy of Logistic regression: 0.96 Accuracy of Decision Tree: 0.93 Accuracy of Random Forest: 0.95"
   ]
  },
  {
   "cell_type": "markdown",
   "metadata": {},
   "source": [
    "### Deployment\n",
    "\n",
    "Based on the analysis of plots, model performance, and observations, the following features have emerged as the most critical in determining the severity index (SII):\n",
    "Gender Influence: Boys are more likely to exhibit problematic internet usage compared to girls. Age Group: Adolescents aged between 10 and 19 are the most likely to fall within the intense severity range of internet usage. Daily Computer Usage: The feature PreInt_EduHx-computerinternet_hoursday (number of hours spent on the computer per day) demonstrates a strong association with higher levels of severity, showing an increased rate in intense problematic internet usage. Physical Features: Most physical features exhibit an upward trend in correlation with increasing SII severity, except for Diastolic Blood Pressure and Heart Rate, which remain relatively unaffected or show a decreasing trend. PCIAT Features: These features represent responses to a questionnaire assessing internet habits among adolescents. Each categorical level of these features corresponds to increasing severity levels of internet usage. All PCIAT features display a strong positive correlation with the target variable (SII), highlighting their significance in predicting problematic usage."
   ]
  }
 ],
 "metadata": {
  "kernelspec": {
   "display_name": "Python 3 (ipykernel)",
   "language": "python",
   "name": "python3"
  },
  "language_info": {
   "codemirror_mode": {
    "name": "ipython",
    "version": 3
   },
   "file_extension": ".py",
   "mimetype": "text/x-python",
   "name": "python",
   "nbconvert_exporter": "python",
   "pygments_lexer": "ipython3",
   "version": "3.11.7"
  },
  "widgets": {
   "application/vnd.jupyter.widget-state+json": {
    "state": {},
    "version_major": 2,
    "version_minor": 0
   }
  }
 },
 "nbformat": 4,
 "nbformat_minor": 4
}
